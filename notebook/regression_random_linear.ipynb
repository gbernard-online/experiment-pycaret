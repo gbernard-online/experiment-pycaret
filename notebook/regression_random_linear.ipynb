{
  "cells": [
    {
      "cell_type": "markdown",
      "metadata": {},
      "source": [
        "![PyCaret](pycaret.png)\n",
        "\n",
        "## PyCaret - Regression (random linear)"
      ]
    },
    {
      "cell_type": "markdown",
      "metadata": {},
      "source": [
        "---\n",
        "\n",
        "### Importing the system module\n"
      ]
    },
    {
      "cell_type": "code",
      "execution_count": null,
      "metadata": {},
      "outputs": [],
      "source": [
        "import sys\n",
        "\n",
        "sys.version"
      ]
    },
    {
      "cell_type": "markdown",
      "metadata": {},
      "source": [
        "---\n",
        "\n",
        "### Importing the NumPy module\n"
      ]
    },
    {
      "cell_type": "code",
      "execution_count": null,
      "metadata": {},
      "outputs": [],
      "source": [
        "import numpy as np\n",
        "np.random.seed(0)\n",
        "\n",
        "np.__version__"
      ]
    },
    {
      "cell_type": "markdown",
      "metadata": {},
      "source": [
        "📘 REF  \n",
        "> https://numpy.org/doc/stable"
      ]
    },
    {
      "cell_type": "markdown",
      "metadata": {},
      "source": [
        "---\n",
        "\n",
        "### Importing the PyCaret module\n"
      ]
    },
    {
      "cell_type": "code",
      "execution_count": null,
      "metadata": {},
      "outputs": [],
      "source": [
        "import pycaret\n",
        "\n",
        "pycaret.__version__"
      ]
    },
    {
      "cell_type": "markdown",
      "metadata": {},
      "source": [
        "📘 REF  \n",
        "> https://pycaret.readthedocs.io/en/stable"
      ]
    },
    {
      "cell_type": "markdown",
      "metadata": {},
      "source": [
        "---"
      ]
    },
    {
      "cell_type": "code",
      "execution_count": null,
      "metadata": {},
      "outputs": [],
      "source": [
        "import matplotlib as mpl\n",
        "import matplotlib.pyplot as plt\n",
        "\n",
        "plt.style.use('dark_background')\n",
        "\n",
        "palette = mpl.cm.get_cmap('Pastel2').colors\n",
        "\n",
        "plt.rcParams['image.cmap'] = 'Pastel2'\n",
        "plt.rcParams['axes.prop_cycle'] = plt.cycler(color=palette)\n",
        "\n",
        "plt.rcParams['figure.constrained_layout.use'] = True\n",
        "\n",
        "mpl.__version__"
      ]
    },
    {
      "cell_type": "code",
      "execution_count": null,
      "metadata": {},
      "outputs": [],
      "source": [
        "import pandas as pd\n",
        "\n",
        "feature = np.random.normal(size=10_000)\n",
        "\n",
        "dataset = pd.DataFrame({'feature': feature, 'target': feature + np.random.normal(scale=0.1, size=feature.shape)})\n",
        "dataset.head()"
      ]
    },
    {
      "cell_type": "code",
      "execution_count": null,
      "metadata": {},
      "outputs": [],
      "source": [
        "figure, axe = plt.subplots(figsize=(8, 8))\n",
        "\n",
        "axe.grid(False)\n",
        "axe.scatter(dataset['feature'], dataset['target'], alpha=0.5)"
      ]
    },
    {
      "cell_type": "code",
      "execution_count": null,
      "metadata": {},
      "outputs": [],
      "source": [
        "import pycaret.regression\n",
        "str\n",
        "regression = pycaret.regression.setup(data=dataset, session_id=0, target='target')"
      ]
    },
    {
      "cell_type": "code",
      "execution_count": null,
      "metadata": {},
      "outputs": [],
      "source": [
        "model = pycaret.regression.compare_models(exclude=['ada', 'catboost', 'xgboost'])"
      ]
    },
    {
      "cell_type": "code",
      "execution_count": null,
      "metadata": {},
      "outputs": [],
      "source": [
        "pycaret.regression.evaluate_model(model)"
      ]
    },
    {
      "cell_type": "markdown",
      "metadata": {},
      "source": [
        "---"
      ]
    }
  ],
  "metadata": {
    "kernelspec": {
      "display_name": "Python 3.8.15 64-bit ('3.8.15')",
      "language": "python",
      "name": "python3"
    },
    "language_info": {
      "codemirror_mode": {
        "name": "ipython",
        "version": 3
      },
      "file_extension": ".py",
      "mimetype": "text/x-python",
      "name": "python",
      "nbconvert_exporter": "python",
      "pygments_lexer": "ipython3",
      "version": "3.10.9"
    },
    "orig_nbformat": 4,
    "vscode": {
      "interpreter": {
        "hash": "e09c97a0948662fc92a91a931a3f08191ab223a84e588f01350028a0f743ee63"
      }
    }
  },
  "nbformat": 4,
  "nbformat_minor": 2
}
